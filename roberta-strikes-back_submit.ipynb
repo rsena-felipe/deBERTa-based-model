{
 "cells": [
  {
   "cell_type": "markdown",
   "id": "29c97ccd",
   "metadata": {
    "papermill": {
     "duration": 0.030274,
     "end_time": "2022-04-12T19:35:10.933285",
     "exception": false,
     "start_time": "2022-04-12T19:35:10.903011",
     "status": "completed"
    },
    "tags": []
   },
   "source": [
    "# Roberta Strikes Back !\n",
    "\n",
    "This notebook demonstates that you can reach decent performances with Roberta, if you process predictions correctly.\n",
    "\n",
    "The training procedure will not be shared as it would most likely destroy the leaderboard."
   ]
  },
  {
   "cell_type": "markdown",
   "id": "a5bc6351",
   "metadata": {
    "papermill": {
     "duration": 0.028925,
     "end_time": "2022-04-12T19:35:10.994336",
     "exception": false,
     "start_time": "2022-04-12T19:35:10.965411",
     "status": "completed"
    },
    "tags": []
   },
   "source": [
    "# Initialization"
   ]
  },
  {
   "cell_type": "markdown",
   "id": "14ffa369",
   "metadata": {
    "papermill": {
     "duration": 0.029346,
     "end_time": "2022-04-12T19:35:11.054579",
     "exception": false,
     "start_time": "2022-04-12T19:35:11.025233",
     "status": "completed"
    },
    "tags": []
   },
   "source": [
    "### Imports"
   ]
  },
  {
   "cell_type": "code",
   "execution_count": 1,
   "id": "f7e3e2c8",
   "metadata": {
    "_kg_hide-input": true,
    "execution": {
     "iopub.execute_input": "2022-04-12T19:35:11.122890Z",
     "iopub.status.busy": "2022-04-12T19:35:11.122059Z",
     "iopub.status.idle": "2022-04-12T19:35:11.180333Z",
     "shell.execute_reply": "2022-04-12T19:35:11.179727Z",
     "shell.execute_reply.started": "2022-04-12T19:34:34.507208Z"
    },
    "papermill": {
     "duration": 0.097113,
     "end_time": "2022-04-12T19:35:11.180472",
     "exception": false,
     "start_time": "2022-04-12T19:35:11.083359",
     "status": "completed"
    },
    "tags": []
   },
   "outputs": [],
   "source": [
    "import os\n",
    "import re\n",
    "import ast\n",
    "import json\n",
    "import glob\n",
    "import numpy as np\n",
    "import pandas as pd\n",
    "from tqdm.notebook import tqdm\n",
    "\n",
    "os.environ[\"TOKENIZERS_PARALLELISM\"] = \"false\""
   ]
  },
  {
   "cell_type": "markdown",
   "id": "4d93ade2",
   "metadata": {
    "papermill": {
     "duration": 0.028953,
     "end_time": "2022-04-12T19:35:11.238411",
     "exception": false,
     "start_time": "2022-04-12T19:35:11.209458",
     "status": "completed"
    },
    "tags": []
   },
   "source": [
    "### Paths"
   ]
  },
  {
   "cell_type": "code",
   "execution_count": 2,
   "id": "4058b6fa",
   "metadata": {
    "_kg_hide-input": true,
    "execution": {
     "iopub.execute_input": "2022-04-12T19:35:11.301190Z",
     "iopub.status.busy": "2022-04-12T19:35:11.300413Z",
     "iopub.status.idle": "2022-04-12T19:35:11.302363Z",
     "shell.execute_reply": "2022-04-12T19:35:11.302723Z",
     "shell.execute_reply.started": "2022-04-12T19:33:53.359752Z"
    },
    "papermill": {
     "duration": 0.035327,
     "end_time": "2022-04-12T19:35:11.302870",
     "exception": false,
     "start_time": "2022-04-12T19:35:11.267543",
     "status": "completed"
    },
    "tags": []
   },
   "outputs": [],
   "source": [
    "DATA_PATH = \"../input/nbme-score-clinical-patient-notes/\"\n",
    "OUT_PATH = \"../input/nbme-roberta-large/\"\n",
    "WEIGHTS_FOLDER = \"../input/nbme-roberta-large/\"\n",
    "\n",
    "NUM_WORKERS = 2"
   ]
  },
  {
   "cell_type": "markdown",
   "id": "d2fc29d3",
   "metadata": {
    "papermill": {
     "duration": 0.031811,
     "end_time": "2022-04-12T19:35:11.363795",
     "exception": false,
     "start_time": "2022-04-12T19:35:11.331984",
     "status": "completed"
    },
    "tags": []
   },
   "source": [
    "# Data"
   ]
  },
  {
   "cell_type": "markdown",
   "id": "ec3c0112",
   "metadata": {
    "papermill": {
     "duration": 0.031971,
     "end_time": "2022-04-12T19:35:11.428446",
     "exception": false,
     "start_time": "2022-04-12T19:35:11.396475",
     "status": "completed"
    },
    "tags": []
   },
   "source": [
    "## Preparation"
   ]
  },
  {
   "cell_type": "code",
   "execution_count": 3,
   "id": "62b86476",
   "metadata": {
    "_kg_hide-input": true,
    "execution": {
     "iopub.execute_input": "2022-04-12T19:35:11.503946Z",
     "iopub.status.busy": "2022-04-12T19:35:11.502186Z",
     "iopub.status.idle": "2022-04-12T19:35:11.524577Z",
     "shell.execute_reply": "2022-04-12T19:35:11.526297Z",
     "shell.execute_reply.started": "2022-04-12T19:33:53.365618Z"
    },
    "papermill": {
     "duration": 0.065439,
     "end_time": "2022-04-12T19:35:11.526514",
     "exception": false,
     "start_time": "2022-04-12T19:35:11.461075",
     "status": "completed"
    },
    "tags": []
   },
   "outputs": [],
   "source": [
    "def process_feature_text(text):\n",
    "    text = re.sub('I-year', '1-year', text)\n",
    "    text = re.sub('-OR-', \" or \", text)\n",
    "    text = re.sub('-', ' ', text)\n",
    "    return text\n",
    "\n",
    "\n",
    "def clean_spaces(txt):\n",
    "    txt = re.sub('\\n', ' ', txt)\n",
    "    txt = re.sub('\\t', ' ', txt)\n",
    "    txt = re.sub('\\r', ' ', txt)\n",
    "#     txt = re.sub(r'\\s+', ' ', txt)\n",
    "    return txt\n",
    "\n",
    "\n",
    "def load_and_prepare_test(root=\"\"):\n",
    "    patient_notes = pd.read_csv(root + \"patient_notes.csv\")\n",
    "    features = pd.read_csv(root + \"features.csv\")\n",
    "    df = pd.read_csv(root + \"test.csv\")\n",
    "\n",
    "    df = df.merge(features, how=\"left\", on=[\"case_num\", \"feature_num\"])\n",
    "    df = df.merge(patient_notes, how=\"left\", on=['case_num', 'pn_num'])\n",
    "\n",
    "    df['pn_history'] = df['pn_history'].apply(lambda x: x.strip())\n",
    "    df['feature_text'] = df['feature_text'].apply(process_feature_text)\n",
    "\n",
    "    df['feature_text'] = df['feature_text'].apply(clean_spaces)\n",
    "    df['clean_text'] = df['pn_history'].apply(clean_spaces)\n",
    "\n",
    "    df['target'] = \"\"\n",
    "    return df"
   ]
  },
  {
   "cell_type": "markdown",
   "id": "b9d2581e",
   "metadata": {
    "papermill": {
     "duration": 0.031666,
     "end_time": "2022-04-12T19:35:11.608060",
     "exception": false,
     "start_time": "2022-04-12T19:35:11.576394",
     "status": "completed"
    },
    "tags": []
   },
   "source": [
    "### Processing"
   ]
  },
  {
   "cell_type": "code",
   "execution_count": 4,
   "id": "64a7283c",
   "metadata": {
    "_kg_hide-input": true,
    "execution": {
     "iopub.execute_input": "2022-04-12T19:35:11.683379Z",
     "iopub.status.busy": "2022-04-12T19:35:11.682496Z",
     "iopub.status.idle": "2022-04-12T19:35:11.684583Z",
     "shell.execute_reply": "2022-04-12T19:35:11.685024Z",
     "shell.execute_reply.started": "2022-04-12T19:33:53.379150Z"
    },
    "papermill": {
     "duration": 0.045918,
     "end_time": "2022-04-12T19:35:11.685171",
     "exception": false,
     "start_time": "2022-04-12T19:35:11.639253",
     "status": "completed"
    },
    "tags": []
   },
   "outputs": [],
   "source": [
    "import itertools\n",
    "\n",
    "\n",
    "def token_pred_to_char_pred(token_pred, offsets):\n",
    "    char_pred = np.zeros((np.max(offsets), token_pred.shape[1]))\n",
    "    for i in range(len(token_pred)):\n",
    "        s, e = int(offsets[i][0]), int(offsets[i][1])  # start, end\n",
    "        char_pred[s:e] = token_pred[i]\n",
    "\n",
    "        if token_pred.shape[1] == 3:  # following characters cannot be tagged as start\n",
    "            s += 1\n",
    "            char_pred[s: e, 1], char_pred[s: e, 2] = (\n",
    "                np.max(char_pred[s: e, 1:], 1),\n",
    "                np.min(char_pred[s: e, 1:], 1),\n",
    "            )\n",
    "\n",
    "    return char_pred\n",
    "\n",
    "\n",
    "def labels_to_sub(labels):\n",
    "    all_spans = []\n",
    "    for label in labels:\n",
    "        indices = np.where(label > 0)[0]\n",
    "        indices_grouped = [\n",
    "            list(g) for _, g in itertools.groupby(\n",
    "                indices, key=lambda n, c=itertools.count(): n - next(c)\n",
    "            )\n",
    "        ]\n",
    "\n",
    "        spans = [f\"{min(r)} {max(r) + 1}\" for r in indices_grouped]\n",
    "        all_spans.append(\";\".join(spans))\n",
    "    return all_spans\n",
    "\n",
    "\n",
    "def char_target_to_span(char_target):\n",
    "    spans = []\n",
    "    start, end = 0, 0\n",
    "    for i in range(len(char_target)):\n",
    "        if char_target[i] == 1 and char_target[i - 1] == 0:\n",
    "            if end:\n",
    "                spans.append([start, end])\n",
    "            start = i\n",
    "            end = i + 1\n",
    "        elif char_target[i] == 1:\n",
    "            end = i + 1\n",
    "        else:\n",
    "            if end:\n",
    "                spans.append([start, end])\n",
    "            start, end = 0, 0\n",
    "    return spans"
   ]
  },
  {
   "cell_type": "markdown",
   "id": "20ea43fe",
   "metadata": {
    "papermill": {
     "duration": 0.03081,
     "end_time": "2022-04-12T19:35:11.746914",
     "exception": false,
     "start_time": "2022-04-12T19:35:11.716104",
     "status": "completed"
    },
    "tags": []
   },
   "source": [
    "## Tokenization"
   ]
  },
  {
   "cell_type": "code",
   "execution_count": 5,
   "id": "ab2e54b4",
   "metadata": {
    "_kg_hide-input": true,
    "execution": {
     "iopub.execute_input": "2022-04-12T19:35:11.818647Z",
     "iopub.status.busy": "2022-04-12T19:35:11.817209Z",
     "iopub.status.idle": "2022-04-12T19:35:13.476405Z",
     "shell.execute_reply": "2022-04-12T19:35:13.475512Z",
     "shell.execute_reply.started": "2022-04-12T19:33:53.392883Z"
    },
    "papermill": {
     "duration": 1.699089,
     "end_time": "2022-04-12T19:35:13.476547",
     "exception": false,
     "start_time": "2022-04-12T19:35:11.777458",
     "status": "completed"
    },
    "tags": []
   },
   "outputs": [],
   "source": [
    "import numpy as np\n",
    "from transformers import AutoTokenizer\n",
    "\n",
    "\n",
    "def get_tokenizer(name, precompute=False, df=None, folder=None):\n",
    "    if folder is None:\n",
    "        tokenizer = AutoTokenizer.from_pretrained(name)\n",
    "    else:\n",
    "        tokenizer = AutoTokenizer.from_pretrained(folder)\n",
    "\n",
    "    tokenizer.name = name\n",
    "    tokenizer.special_tokens = {\n",
    "        \"sep\": tokenizer.sep_token_id,\n",
    "        \"cls\": tokenizer.cls_token_id,\n",
    "        \"pad\": tokenizer.pad_token_id,\n",
    "    }\n",
    "\n",
    "    if precompute:\n",
    "        tokenizer.precomputed = precompute_tokens(df, tokenizer)\n",
    "    else:\n",
    "        tokenizer.precomputed = None\n",
    "\n",
    "    return tokenizer\n",
    "\n",
    "\n",
    "def precompute_tokens(df, tokenizer):\n",
    "    feature_texts = df[\"feature_text\"].unique()\n",
    "\n",
    "    ids = {}\n",
    "    offsets = {}\n",
    "\n",
    "    for feature_text in feature_texts:\n",
    "        encoding = tokenizer(\n",
    "            feature_text,\n",
    "            return_token_type_ids=True,\n",
    "            return_offsets_mapping=True,\n",
    "            return_attention_mask=False,\n",
    "            add_special_tokens=False,\n",
    "        )\n",
    "        ids[feature_text] = encoding[\"input_ids\"]\n",
    "        offsets[feature_text] = encoding[\"offset_mapping\"]\n",
    "\n",
    "    texts = df[\"clean_text\"].unique()\n",
    "\n",
    "    for text in texts:\n",
    "        encoding = tokenizer(\n",
    "            text,\n",
    "            return_token_type_ids=True,\n",
    "            return_offsets_mapping=True,\n",
    "            return_attention_mask=False,\n",
    "            add_special_tokens=False,\n",
    "        )\n",
    "        ids[text] = encoding[\"input_ids\"]\n",
    "        offsets[text] = encoding[\"offset_mapping\"]\n",
    "\n",
    "    return {\"ids\": ids, \"offsets\": offsets}\n",
    "\n",
    "\n",
    "def encodings_from_precomputed(feature_text, text, precomputed, tokenizer, max_len=300):\n",
    "    tokens = tokenizer.special_tokens\n",
    "\n",
    "    # Input ids\n",
    "    if \"roberta\" in tokenizer.name:\n",
    "        qa_sep = [tokens[\"sep\"], tokens[\"sep\"]]\n",
    "    else:\n",
    "        qa_sep = [tokens[\"sep\"]]\n",
    "\n",
    "    input_ids = [tokens[\"cls\"]] + precomputed[\"ids\"][feature_text] + qa_sep\n",
    "    n_question_tokens = len(input_ids)\n",
    "\n",
    "    input_ids += precomputed[\"ids\"][text]\n",
    "    input_ids = input_ids[: max_len - 1] + [tokens[\"sep\"]]\n",
    "\n",
    "    # Token type ids\n",
    "    if \"roberta\" not in tokenizer.name:\n",
    "        token_type_ids = np.ones(len(input_ids))\n",
    "        token_type_ids[:n_question_tokens] = 0\n",
    "        token_type_ids = token_type_ids.tolist()\n",
    "    else:\n",
    "        token_type_ids = [0] * len(input_ids)\n",
    "\n",
    "    # Offsets\n",
    "    offsets = [(0, 0)] * n_question_tokens + precomputed[\"offsets\"][text]\n",
    "    offsets = offsets[: max_len - 1] + [(0, 0)]\n",
    "\n",
    "    # Padding\n",
    "    padding_length = max_len - len(input_ids)\n",
    "    if padding_length > 0:\n",
    "        input_ids = input_ids + ([tokens[\"pad\"]] * padding_length)\n",
    "        token_type_ids = token_type_ids + ([0] * padding_length)\n",
    "        offsets = offsets + ([(0, 0)] * padding_length)\n",
    "\n",
    "    encoding = {\n",
    "        \"input_ids\": input_ids,\n",
    "        \"token_type_ids\": token_type_ids,\n",
    "        \"offset_mapping\": offsets,\n",
    "    }\n",
    "\n",
    "    return encoding\n"
   ]
  },
  {
   "cell_type": "markdown",
   "id": "adbf5441",
   "metadata": {
    "papermill": {
     "duration": 0.052719,
     "end_time": "2022-04-12T19:35:13.561487",
     "exception": false,
     "start_time": "2022-04-12T19:35:13.508768",
     "status": "completed"
    },
    "tags": []
   },
   "source": [
    "## Dataset"
   ]
  },
  {
   "cell_type": "code",
   "execution_count": 6,
   "id": "493547d2",
   "metadata": {
    "_kg_hide-input": true,
    "execution": {
     "iopub.execute_input": "2022-04-12T19:35:13.698880Z",
     "iopub.status.busy": "2022-04-12T19:35:13.694234Z",
     "iopub.status.idle": "2022-04-12T19:35:13.702103Z",
     "shell.execute_reply": "2022-04-12T19:35:13.702931Z",
     "shell.execute_reply.started": "2022-04-12T19:33:55.041153Z"
    },
    "papermill": {
     "duration": 0.079946,
     "end_time": "2022-04-12T19:35:13.703119",
     "exception": false,
     "start_time": "2022-04-12T19:35:13.623173",
     "status": "completed"
    },
    "tags": []
   },
   "outputs": [],
   "source": [
    "import torch\n",
    "import numpy as np\n",
    "from torch.utils.data import Dataset\n",
    "\n",
    "\n",
    "class PatientNoteDataset(Dataset):\n",
    "    def __init__(self, df, tokenizer, max_len):\n",
    "        self.df = df\n",
    "        self.max_len = max_len\n",
    "        self.tokenizer = tokenizer\n",
    "\n",
    "        self.texts = df['clean_text'].values\n",
    "        self.feature_text = df['feature_text'].values\n",
    "        self.char_targets = df['target'].values.tolist()\n",
    "\n",
    "    def __getitem__(self, idx):\n",
    "        text = self.texts[idx]\n",
    "        feature_text = self.feature_text[idx]\n",
    "        char_target = self.char_targets[idx]\n",
    "\n",
    "        # Tokenize\n",
    "        if self.tokenizer.precomputed is None:\n",
    "            encoding = self.tokenizer(\n",
    "                feature_text,\n",
    "                text,\n",
    "                return_token_type_ids=True,\n",
    "                return_offsets_mapping=True,\n",
    "                return_attention_mask=False,\n",
    "                truncation=\"only_second\",\n",
    "                max_length=self.max_len,\n",
    "                padding='max_length',\n",
    "            )\n",
    "            raise NotImplementedError(\"fix issues with question offsets\")\n",
    "        else:\n",
    "            encoding = encodings_from_precomputed(\n",
    "                feature_text,\n",
    "                text,\n",
    "                self.tokenizer.precomputed,\n",
    "                self.tokenizer,\n",
    "                max_len=self.max_len\n",
    "            )\n",
    "\n",
    "        return {\n",
    "            \"ids\": torch.tensor(encoding[\"input_ids\"], dtype=torch.long),\n",
    "            \"token_type_ids\": torch.tensor(encoding[\"token_type_ids\"], dtype=torch.long),\n",
    "            \"target\": torch.tensor([0], dtype=torch.float),\n",
    "            \"offsets\": np.array(encoding[\"offset_mapping\"]),\n",
    "            \"text\": text,\n",
    "        }\n",
    "\n",
    "    def __len__(self):\n",
    "        return len(self.texts)\n"
   ]
  },
  {
   "cell_type": "markdown",
   "id": "f7acb62c",
   "metadata": {
    "papermill": {
     "duration": 0.049106,
     "end_time": "2022-04-12T19:35:13.810610",
     "exception": false,
     "start_time": "2022-04-12T19:35:13.761504",
     "status": "completed"
    },
    "tags": []
   },
   "source": [
    "### Plot predictions"
   ]
  },
  {
   "cell_type": "code",
   "execution_count": 7,
   "id": "169e52e2",
   "metadata": {
    "_kg_hide-input": true,
    "execution": {
     "iopub.execute_input": "2022-04-12T19:35:13.917160Z",
     "iopub.status.busy": "2022-04-12T19:35:13.913632Z",
     "iopub.status.idle": "2022-04-12T19:35:22.349688Z",
     "shell.execute_reply": "2022-04-12T19:35:22.349207Z",
     "shell.execute_reply.started": "2022-04-12T19:33:55.058093Z"
    },
    "papermill": {
     "duration": 8.491242,
     "end_time": "2022-04-12T19:35:22.349845",
     "exception": false,
     "start_time": "2022-04-12T19:35:13.858603",
     "status": "completed"
    },
    "tags": []
   },
   "outputs": [],
   "source": [
    "import spacy\n",
    "import numpy as np\n",
    "\n",
    "def plot_annotation(df, pn_num):\n",
    "    options = {\"colors\": {}}\n",
    "\n",
    "    df_text = df[df[\"pn_num\"] == pn_num].reset_index(drop=True)\n",
    "\n",
    "    text = df_text[\"pn_history\"][0]\n",
    "    ents = []\n",
    "\n",
    "    for spans, feature_text, feature_num in df_text[[\"span\", \"feature_text\", \"feature_num\"]].values:\n",
    "        for s in spans:\n",
    "            ents.append({\"start\": int(s[0]), \"end\": int(s[1]), \"label\": feature_text})\n",
    "\n",
    "        options[\"colors\"][feature_text] =  f\"rgb{tuple(np.random.randint(100, 255, size=3))}\"\n",
    "\n",
    "    doc = {\"text\": text, \"ents\": sorted(ents, key=lambda i: i[\"start\"])}\n",
    "\n",
    "    spacy.displacy.render(doc, style=\"ent\", options=options, manual=True, jupyter=True)"
   ]
  },
  {
   "cell_type": "markdown",
   "id": "3068b0b5",
   "metadata": {
    "papermill": {
     "duration": 0.02863,
     "end_time": "2022-04-12T19:35:22.407479",
     "exception": false,
     "start_time": "2022-04-12T19:35:22.378849",
     "status": "completed"
    },
    "tags": []
   },
   "source": [
    "# Model"
   ]
  },
  {
   "cell_type": "code",
   "execution_count": 8,
   "id": "cc865fe0",
   "metadata": {
    "_kg_hide-input": true,
    "execution": {
     "iopub.execute_input": "2022-04-12T19:35:22.476287Z",
     "iopub.status.busy": "2022-04-12T19:35:22.475437Z",
     "iopub.status.idle": "2022-04-12T19:35:22.484204Z",
     "shell.execute_reply": "2022-04-12T19:35:22.483762Z",
     "shell.execute_reply.started": "2022-04-12T19:34:03.838824Z"
    },
    "papermill": {
     "duration": 0.047717,
     "end_time": "2022-04-12T19:35:22.484328",
     "exception": false,
     "start_time": "2022-04-12T19:35:22.436611",
     "status": "completed"
    },
    "tags": []
   },
   "outputs": [],
   "source": [
    "import torch\n",
    "import transformers\n",
    "import torch.nn as nn\n",
    "from transformers import AutoConfig, AutoModel\n",
    "\n",
    "\n",
    "class NERTransformer(nn.Module):\n",
    "    def __init__(\n",
    "        self,\n",
    "        model,\n",
    "        num_classes=1,\n",
    "        config_file=None,\n",
    "        pretrained=True,\n",
    "    ):\n",
    "        super().__init__()\n",
    "        self.name = model\n",
    "        self.pad_idx = 1 if \"roberta\" in self.name else 0\n",
    "\n",
    "        transformers.logging.set_verbosity_error()\n",
    "\n",
    "        if config_file is None:\n",
    "            config = AutoConfig.from_pretrained(model, output_hidden_states=True)\n",
    "        else:\n",
    "            config = torch.load(config_file)\n",
    "\n",
    "        if pretrained:\n",
    "            self.transformer = AutoModel.from_pretrained(model, config=config)\n",
    "        else:\n",
    "            self.transformer = AutoModel.from_config(config)\n",
    "\n",
    "        self.nb_features = config.hidden_size\n",
    "\n",
    "#         self.cnn = nn.Identity()\n",
    "        self.logits = nn.Linear(self.nb_features, num_classes)\n",
    "\n",
    "    def forward(self, tokens, token_type_ids):\n",
    "        \"\"\"\n",
    "        Usual torch forward function\n",
    "\n",
    "        Arguments:\n",
    "            tokens {torch tensor} -- Sentence tokens\n",
    "            token_type_ids {torch tensor} -- Sentence tokens ids\n",
    "        \"\"\"\n",
    "        hidden_states = self.transformer(\n",
    "            tokens,\n",
    "            attention_mask=(tokens != self.pad_idx).long(),\n",
    "            token_type_ids=token_type_ids,\n",
    "        )[-1]\n",
    "\n",
    "        features = hidden_states[-1]\n",
    "\n",
    "        logits = self.logits(features)\n",
    "\n",
    "        return logits"
   ]
  },
  {
   "cell_type": "markdown",
   "id": "d1495b6c",
   "metadata": {
    "papermill": {
     "duration": 0.028375,
     "end_time": "2022-04-12T19:35:22.541537",
     "exception": false,
     "start_time": "2022-04-12T19:35:22.513162",
     "status": "completed"
    },
    "tags": []
   },
   "source": [
    "# Inference"
   ]
  },
  {
   "cell_type": "markdown",
   "id": "6e77ea8e",
   "metadata": {
    "papermill": {
     "duration": 0.02844,
     "end_time": "2022-04-12T19:35:22.598652",
     "exception": false,
     "start_time": "2022-04-12T19:35:22.570212",
     "status": "completed"
    },
    "tags": []
   },
   "source": [
    "## Loads weights"
   ]
  },
  {
   "cell_type": "code",
   "execution_count": 9,
   "id": "9b1f627c",
   "metadata": {
    "_kg_hide-input": true,
    "execution": {
     "iopub.execute_input": "2022-04-12T19:35:22.665168Z",
     "iopub.status.busy": "2022-04-12T19:35:22.664106Z",
     "iopub.status.idle": "2022-04-12T19:35:22.665937Z",
     "shell.execute_reply": "2022-04-12T19:35:22.666368Z",
     "shell.execute_reply.started": "2022-04-12T19:34:03.860123Z"
    },
    "papermill": {
     "duration": 0.039092,
     "end_time": "2022-04-12T19:35:22.666503",
     "exception": false,
     "start_time": "2022-04-12T19:35:22.627411",
     "status": "completed"
    },
    "tags": []
   },
   "outputs": [],
   "source": [
    "import torch\n",
    "\n",
    "def load_model_weights(model, filename, verbose=1, cp_folder=\"\", strict=True):\n",
    "    \"\"\"\n",
    "    Loads the weights of a PyTorch model. The exception handles cpu/gpu incompatibilities.\n",
    "\n",
    "    Args:\n",
    "        model (torch model): Model to load the weights to.\n",
    "        filename (str): Name of the checkpoint.\n",
    "        verbose (int, optional): Whether to display infos. Defaults to 1.\n",
    "        cp_folder (str, optional): Folder to load from. Defaults to \"\".\n",
    "        strict (bool, optional): Whether to allow missing/additional keys. Defaults to False.\n",
    "\n",
    "    Returns:\n",
    "        torch model: Model with loaded weights.\n",
    "    \"\"\"\n",
    "    if verbose:\n",
    "        print(f\"\\n -> Loading weights from {os.path.join(cp_folder,filename)}\\n\")\n",
    "\n",
    "    try:\n",
    "        model.load_state_dict(\n",
    "            torch.load(os.path.join(cp_folder, filename), map_location=\"cpu\"),\n",
    "            strict=strict,\n",
    "        )\n",
    "    except RuntimeError:\n",
    "        model.encoder.fc = torch.nn.Linear(model.nb_ft, 1)\n",
    "        model.load_state_dict(\n",
    "            torch.load(os.path.join(cp_folder, filename), map_location=\"cpu\"),\n",
    "            strict=strict,\n",
    "        )\n",
    "\n",
    "    return model"
   ]
  },
  {
   "cell_type": "markdown",
   "id": "6ee2a8fc",
   "metadata": {
    "papermill": {
     "duration": 0.030603,
     "end_time": "2022-04-12T19:35:22.728560",
     "exception": false,
     "start_time": "2022-04-12T19:35:22.697957",
     "status": "completed"
    },
    "tags": []
   },
   "source": [
    "## Predict"
   ]
  },
  {
   "cell_type": "code",
   "execution_count": 10,
   "id": "c04b1e00",
   "metadata": {
    "_kg_hide-input": true,
    "execution": {
     "iopub.execute_input": "2022-04-12T19:35:22.796844Z",
     "iopub.status.busy": "2022-04-12T19:35:22.795914Z",
     "iopub.status.idle": "2022-04-12T19:35:22.805551Z",
     "shell.execute_reply": "2022-04-12T19:35:22.805034Z",
     "shell.execute_reply.started": "2022-04-12T19:34:03.871387Z"
    },
    "papermill": {
     "duration": 0.046882,
     "end_time": "2022-04-12T19:35:22.805677",
     "exception": false,
     "start_time": "2022-04-12T19:35:22.758795",
     "status": "completed"
    },
    "tags": []
   },
   "outputs": [],
   "source": [
    "import torch\n",
    "from torch.utils.data import DataLoader\n",
    "from tqdm.notebook import tqdm\n",
    "\n",
    "\n",
    "def predict(model, dataset, data_config, activation=\"softmax\"):\n",
    "    \"\"\"\n",
    "    Usual predict torch function\n",
    "    \"\"\"\n",
    "    model.eval()\n",
    "\n",
    "    loader = DataLoader(\n",
    "        dataset,\n",
    "        batch_size=data_config['val_bs'],\n",
    "        shuffle=False,\n",
    "        num_workers=NUM_WORKERS,\n",
    "        pin_memory=True,\n",
    "    )\n",
    "\n",
    "    preds = []\n",
    "    with torch.no_grad():\n",
    "        for data in tqdm(loader):\n",
    "            ids, token_type_ids = data[\"ids\"], data[\"token_type_ids\"]\n",
    "\n",
    "            y_pred = model(ids.cuda(), token_type_ids.cuda())\n",
    "\n",
    "            if activation == \"sigmoid\":\n",
    "                y_pred = y_pred.sigmoid()\n",
    "            elif activation == \"softmax\":\n",
    "                y_pred = y_pred.softmax(-1)\n",
    "\n",
    "            preds += [\n",
    "                token_pred_to_char_pred(y, offsets) for y, offsets\n",
    "                in zip(y_pred.detach().cpu().numpy(), data[\"offsets\"].numpy())\n",
    "            ]\n",
    "\n",
    "    return preds\n"
   ]
  },
  {
   "cell_type": "markdown",
   "id": "3ff48f22",
   "metadata": {
    "papermill": {
     "duration": 0.033916,
     "end_time": "2022-04-12T19:35:22.874187",
     "exception": false,
     "start_time": "2022-04-12T19:35:22.840271",
     "status": "completed"
    },
    "tags": []
   },
   "source": [
    "## Inference"
   ]
  },
  {
   "cell_type": "code",
   "execution_count": 11,
   "id": "3b73a2a5",
   "metadata": {
    "_kg_hide-input": true,
    "execution": {
     "iopub.execute_input": "2022-04-12T19:35:22.951087Z",
     "iopub.status.busy": "2022-04-12T19:35:22.950159Z",
     "iopub.status.idle": "2022-04-12T19:35:22.952039Z",
     "shell.execute_reply": "2022-04-12T19:35:22.952563Z",
     "shell.execute_reply.started": "2022-04-12T19:34:03.886198Z"
    },
    "papermill": {
     "duration": 0.045201,
     "end_time": "2022-04-12T19:35:22.952707",
     "exception": false,
     "start_time": "2022-04-12T19:35:22.907506",
     "status": "completed"
    },
    "tags": []
   },
   "outputs": [],
   "source": [
    "def inference_test(df, exp_folder, config, cfg_folder=None):\n",
    "    preds = []\n",
    "\n",
    "    if cfg_folder is not None:\n",
    "        model_config_file = cfg_folder + config.name.split('/')[-1] + \"/config.pth\"\n",
    "        tokenizer_folder = cfg_folder + config.name.split('/')[-1] + \"/tokenizers/\"\n",
    "    else:\n",
    "        model_config_file, tokenizer_folder = None, None\n",
    "\n",
    "    tokenizer = get_tokenizer(\n",
    "        config.name, precompute=config.precompute_tokens, df=df, folder=tokenizer_folder\n",
    "    )\n",
    "\n",
    "    dataset = PatientNoteDataset(\n",
    "        df,\n",
    "        tokenizer,\n",
    "        max_len=config.max_len,\n",
    "    )\n",
    "\n",
    "    model = NERTransformer(\n",
    "        config.name,\n",
    "        num_classes=config.num_classes,\n",
    "        config_file=model_config_file,\n",
    "        pretrained=False\n",
    "    ).cuda()\n",
    "    model.zero_grad()\n",
    "\n",
    "    weights = sorted(glob.glob(exp_folder + \"*.pt\"))\n",
    "    for weight in weights:\n",
    "        model = load_model_weights(model, weight)\n",
    "\n",
    "        pred = predict(\n",
    "            model,\n",
    "            dataset,\n",
    "            data_config=config.data_config,\n",
    "            activation=config.loss_config[\"activation\"]\n",
    "        )\n",
    "        preds.append(pred)\n",
    "\n",
    "    return preds"
   ]
  },
  {
   "cell_type": "markdown",
   "id": "2ac2c367",
   "metadata": {
    "papermill": {
     "duration": 0.02986,
     "end_time": "2022-04-12T19:35:23.011853",
     "exception": false,
     "start_time": "2022-04-12T19:35:22.981993",
     "status": "completed"
    },
    "tags": []
   },
   "source": [
    "# Main"
   ]
  },
  {
   "cell_type": "markdown",
   "id": "3f1c56c0",
   "metadata": {
    "papermill": {
     "duration": 0.028659,
     "end_time": "2022-04-12T19:35:23.070947",
     "exception": false,
     "start_time": "2022-04-12T19:35:23.042288",
     "status": "completed"
    },
    "tags": []
   },
   "source": [
    "## Config"
   ]
  },
  {
   "cell_type": "code",
   "execution_count": 12,
   "id": "c1ef1933",
   "metadata": {
    "execution": {
     "iopub.execute_input": "2022-04-12T19:35:23.136380Z",
     "iopub.status.busy": "2022-04-12T19:35:23.135583Z",
     "iopub.status.idle": "2022-04-12T19:35:23.138111Z",
     "shell.execute_reply": "2022-04-12T19:35:23.137632Z",
     "shell.execute_reply.started": "2022-04-12T19:34:03.900315Z"
    },
    "papermill": {
     "duration": 0.038185,
     "end_time": "2022-04-12T19:35:23.138224",
     "exception": false,
     "start_time": "2022-04-12T19:35:23.100039",
     "status": "completed"
    },
    "tags": []
   },
   "outputs": [],
   "source": [
    "class Config:\n",
    "    # Architecture\n",
    "    name = \"roberta-large\"\n",
    "    num_classes = 1\n",
    "\n",
    "    # Texts\n",
    "    max_len = 310\n",
    "    precompute_tokens = True\n",
    "\n",
    "    # Training    \n",
    "    loss_config = {\n",
    "        \"activation\": \"sigmoid\",\n",
    "    }\n",
    "\n",
    "    data_config = {\n",
    "        \"val_bs\": 16 if \"large\" in name else 32,\n",
    "        \"pad_token\": 1 if \"roberta\" in name else 0,\n",
    "    }\n",
    "\n",
    "    verbose = 1"
   ]
  },
  {
   "cell_type": "markdown",
   "id": "cb7a97e6",
   "metadata": {
    "papermill": {
     "duration": 0.028497,
     "end_time": "2022-04-12T19:35:23.195441",
     "exception": false,
     "start_time": "2022-04-12T19:35:23.166944",
     "status": "completed"
    },
    "tags": []
   },
   "source": [
    "## Data"
   ]
  },
  {
   "cell_type": "code",
   "execution_count": 13,
   "id": "d38ac00a",
   "metadata": {
    "execution": {
     "iopub.execute_input": "2022-04-12T19:35:23.257805Z",
     "iopub.status.busy": "2022-04-12T19:35:23.256642Z",
     "iopub.status.idle": "2022-04-12T19:35:23.967736Z",
     "shell.execute_reply": "2022-04-12T19:35:23.968162Z",
     "shell.execute_reply.started": "2022-04-12T19:34:03.913895Z"
    },
    "papermill": {
     "duration": 0.743967,
     "end_time": "2022-04-12T19:35:23.968305",
     "exception": false,
     "start_time": "2022-04-12T19:35:23.224338",
     "status": "completed"
    },
    "tags": []
   },
   "outputs": [
    {
     "data": {
      "text/html": [
       "<div>\n",
       "<style scoped>\n",
       "    .dataframe tbody tr th:only-of-type {\n",
       "        vertical-align: middle;\n",
       "    }\n",
       "\n",
       "    .dataframe tbody tr th {\n",
       "        vertical-align: top;\n",
       "    }\n",
       "\n",
       "    .dataframe thead th {\n",
       "        text-align: right;\n",
       "    }\n",
       "</style>\n",
       "<table border=\"1\" class=\"dataframe\">\n",
       "  <thead>\n",
       "    <tr style=\"text-align: right;\">\n",
       "      <th></th>\n",
       "      <th>id</th>\n",
       "      <th>case_num</th>\n",
       "      <th>pn_num</th>\n",
       "      <th>feature_num</th>\n",
       "      <th>feature_text</th>\n",
       "      <th>pn_history</th>\n",
       "      <th>clean_text</th>\n",
       "      <th>target</th>\n",
       "    </tr>\n",
       "  </thead>\n",
       "  <tbody>\n",
       "    <tr>\n",
       "      <th>0</th>\n",
       "      <td>00016_000</td>\n",
       "      <td>0</td>\n",
       "      <td>16</td>\n",
       "      <td>0</td>\n",
       "      <td>Family history of MI or Family history of myoc...</td>\n",
       "      <td>HPI: 17yo M presents with palpitations. Patien...</td>\n",
       "      <td>HPI: 17yo M presents with palpitations. Patien...</td>\n",
       "      <td></td>\n",
       "    </tr>\n",
       "    <tr>\n",
       "      <th>1</th>\n",
       "      <td>00016_001</td>\n",
       "      <td>0</td>\n",
       "      <td>16</td>\n",
       "      <td>1</td>\n",
       "      <td>Family history of thyroid disorder</td>\n",
       "      <td>HPI: 17yo M presents with palpitations. Patien...</td>\n",
       "      <td>HPI: 17yo M presents with palpitations. Patien...</td>\n",
       "      <td></td>\n",
       "    </tr>\n",
       "    <tr>\n",
       "      <th>2</th>\n",
       "      <td>00016_002</td>\n",
       "      <td>0</td>\n",
       "      <td>16</td>\n",
       "      <td>2</td>\n",
       "      <td>Chest pressure</td>\n",
       "      <td>HPI: 17yo M presents with palpitations. Patien...</td>\n",
       "      <td>HPI: 17yo M presents with palpitations. Patien...</td>\n",
       "      <td></td>\n",
       "    </tr>\n",
       "    <tr>\n",
       "      <th>3</th>\n",
       "      <td>00016_003</td>\n",
       "      <td>0</td>\n",
       "      <td>16</td>\n",
       "      <td>3</td>\n",
       "      <td>Intermittent symptoms</td>\n",
       "      <td>HPI: 17yo M presents with palpitations. Patien...</td>\n",
       "      <td>HPI: 17yo M presents with palpitations. Patien...</td>\n",
       "      <td></td>\n",
       "    </tr>\n",
       "    <tr>\n",
       "      <th>4</th>\n",
       "      <td>00016_004</td>\n",
       "      <td>0</td>\n",
       "      <td>16</td>\n",
       "      <td>4</td>\n",
       "      <td>Lightheaded</td>\n",
       "      <td>HPI: 17yo M presents with palpitations. Patien...</td>\n",
       "      <td>HPI: 17yo M presents with palpitations. Patien...</td>\n",
       "      <td></td>\n",
       "    </tr>\n",
       "  </tbody>\n",
       "</table>\n",
       "</div>"
      ],
      "text/plain": [
       "          id  case_num  pn_num  feature_num  \\\n",
       "0  00016_000         0      16            0   \n",
       "1  00016_001         0      16            1   \n",
       "2  00016_002         0      16            2   \n",
       "3  00016_003         0      16            3   \n",
       "4  00016_004         0      16            4   \n",
       "\n",
       "                                        feature_text  \\\n",
       "0  Family history of MI or Family history of myoc...   \n",
       "1                 Family history of thyroid disorder   \n",
       "2                                     Chest pressure   \n",
       "3                              Intermittent symptoms   \n",
       "4                                        Lightheaded   \n",
       "\n",
       "                                          pn_history  \\\n",
       "0  HPI: 17yo M presents with palpitations. Patien...   \n",
       "1  HPI: 17yo M presents with palpitations. Patien...   \n",
       "2  HPI: 17yo M presents with palpitations. Patien...   \n",
       "3  HPI: 17yo M presents with palpitations. Patien...   \n",
       "4  HPI: 17yo M presents with palpitations. Patien...   \n",
       "\n",
       "                                          clean_text target  \n",
       "0  HPI: 17yo M presents with palpitations. Patien...         \n",
       "1  HPI: 17yo M presents with palpitations. Patien...         \n",
       "2  HPI: 17yo M presents with palpitations. Patien...         \n",
       "3  HPI: 17yo M presents with palpitations. Patien...         \n",
       "4  HPI: 17yo M presents with palpitations. Patien...         "
      ]
     },
     "execution_count": 13,
     "metadata": {},
     "output_type": "execute_result"
    }
   ],
   "source": [
    "df_test = load_and_prepare_test(root=DATA_PATH)\n",
    "df_test.head()"
   ]
  },
  {
   "cell_type": "markdown",
   "id": "67ff6d29",
   "metadata": {
    "papermill": {
     "duration": 0.030194,
     "end_time": "2022-04-12T19:35:24.028500",
     "exception": false,
     "start_time": "2022-04-12T19:35:23.998306",
     "status": "completed"
    },
    "tags": []
   },
   "source": [
    "## Inference"
   ]
  },
  {
   "cell_type": "code",
   "execution_count": 14,
   "id": "3a6e2696",
   "metadata": {
    "execution": {
     "iopub.execute_input": "2022-04-12T19:35:24.091062Z",
     "iopub.status.busy": "2022-04-12T19:35:24.090423Z",
     "iopub.status.idle": "2022-04-12T19:35:53.603638Z",
     "shell.execute_reply": "2022-04-12T19:35:53.602367Z",
     "shell.execute_reply.started": "2022-04-12T19:34:04.641967Z"
    },
    "papermill": {
     "duration": 29.545949,
     "end_time": "2022-04-12T19:35:53.603817",
     "exception": false,
     "start_time": "2022-04-12T19:35:24.057868",
     "status": "completed"
    },
    "tags": []
   },
   "outputs": [
    {
     "name": "stdout",
     "output_type": "stream",
     "text": [
      "\n",
      " -> Loading weights from ../input/nbme-roberta-large/roberta-large_0.pt\n",
      "\n"
     ]
    },
    {
     "data": {
      "application/vnd.jupyter.widget-view+json": {
       "model_id": "813ecf5a2ae9474082f46b669d0b4ebd",
       "version_major": 2,
       "version_minor": 0
      },
      "text/plain": [
       "  0%|          | 0/1 [00:00<?, ?it/s]"
      ]
     },
     "metadata": {},
     "output_type": "display_data"
    }
   ],
   "source": [
    "preds = inference_test(\n",
    "    df_test,\n",
    "    WEIGHTS_FOLDER,\n",
    "    Config,\n",
    "    cfg_folder=OUT_PATH\n",
    ")[0]"
   ]
  },
  {
   "cell_type": "code",
   "execution_count": 15,
   "id": "0c1eaa25",
   "metadata": {
    "execution": {
     "iopub.execute_input": "2022-04-12T19:35:53.680990Z",
     "iopub.status.busy": "2022-04-12T19:35:53.679204Z",
     "iopub.status.idle": "2022-04-12T19:35:53.681609Z",
     "shell.execute_reply": "2022-04-12T19:35:53.682032Z",
     "shell.execute_reply.started": "2022-04-12T19:34:34.365016Z"
    },
    "papermill": {
     "duration": 0.046283,
     "end_time": "2022-04-12T19:35:53.682171",
     "exception": false,
     "start_time": "2022-04-12T19:35:53.635888",
     "status": "completed"
    },
    "tags": []
   },
   "outputs": [],
   "source": [
    "df_test['preds'] = preds\n",
    "df_test['preds'] = df_test.apply(lambda x: x['preds'][:len(x['clean_text'])], 1)\n",
    "\n",
    "df_test['preds'] = df_test['preds'].apply(lambda x: (x > 0.5).flatten())"
   ]
  },
  {
   "cell_type": "markdown",
   "id": "92d877a3",
   "metadata": {
    "papermill": {
     "duration": 0.035825,
     "end_time": "2022-04-12T19:35:53.750316",
     "exception": false,
     "start_time": "2022-04-12T19:35:53.714491",
     "status": "completed"
    },
    "tags": []
   },
   "source": [
    "## Plot predictions"
   ]
  },
  {
   "cell_type": "code",
   "execution_count": 16,
   "id": "c50a74b9",
   "metadata": {
    "execution": {
     "iopub.execute_input": "2022-04-12T19:35:53.847430Z",
     "iopub.status.busy": "2022-04-12T19:35:53.829958Z",
     "iopub.status.idle": "2022-04-12T19:35:53.851408Z",
     "shell.execute_reply": "2022-04-12T19:35:53.851865Z",
     "shell.execute_reply.started": "2022-04-12T19:34:34.377665Z"
    },
    "papermill": {
     "duration": 0.065792,
     "end_time": "2022-04-12T19:35:53.852060",
     "exception": false,
     "start_time": "2022-04-12T19:35:53.786268",
     "status": "completed"
    },
    "tags": []
   },
   "outputs": [
    {
     "data": {
      "text/html": [
       "<span class=\"tex2jax_ignore\"><div class=\"entities\" style=\"line-height: 2.5; direction: ltr\">HPI: 17yo M presents with palpitations. Patient reports 3-4 months of \n",
       "<mark class=\"entity\" style=\"background: rgb(155, 159, 137); padding: 0.45em 0.6em; margin: 0 0.25em; line-height: 1; border-radius: 0.35em;\">\n",
       "    intermittent\n",
       "    <span style=\"font-size: 0.8em; font-weight: bold; line-height: 1; border-radius: 0.35em; vertical-align: middle; margin-left: 0.5rem\">Intermittent symptoms</span>\n",
       "</mark>\n",
       " \n",
       "<mark class=\"entity\" style=\"background: rgb(155, 159, 137); padding: 0.45em 0.6em; margin: 0 0.25em; line-height: 1; border-radius: 0.35em;\">\n",
       "    episodes\n",
       "    <span style=\"font-size: 0.8em; font-weight: bold; line-height: 1; border-radius: 0.35em; vertical-align: middle; margin-left: 0.5rem\">Intermittent symptoms</span>\n",
       "</mark>\n",
       " of &quot;heart beating/pounding out of my chest.&quot; 2 days ago during a soccer game had an episode, but this time had \n",
       "<mark class=\"entity\" style=\"background: rgb(229, 178, 156); padding: 0.45em 0.6em; margin: 0 0.25em; line-height: 1; border-radius: 0.35em;\">\n",
       "    chest\n",
       "    <span style=\"font-size: 0.8em; font-weight: bold; line-height: 1; border-radius: 0.35em; vertical-align: middle; margin-left: 0.5rem\">Chest pressure</span>\n",
       "</mark>\n",
       " \n",
       "<mark class=\"entity\" style=\"background: rgb(229, 178, 156); padding: 0.45em 0.6em; margin: 0 0.25em; line-height: 1; border-radius: 0.35em;\">\n",
       "    pressure\n",
       "    <span style=\"font-size: 0.8em; font-weight: bold; line-height: 1; border-radius: 0.35em; vertical-align: middle; margin-left: 0.5rem\">Chest pressure</span>\n",
       "</mark>\n",
       " and \n",
       "<mark class=\"entity\" style=\"background: rgb(105, 110, 192); padding: 0.45em 0.6em; margin: 0 0.25em; line-height: 1; border-radius: 0.35em;\">\n",
       "    felt\n",
       "    <span style=\"font-size: 0.8em; font-weight: bold; line-height: 1; border-radius: 0.35em; vertical-align: middle; margin-left: 0.5rem\">Lightheaded</span>\n",
       "</mark>\n",
       " \n",
       "<mark class=\"entity\" style=\"background: rgb(105, 110, 192); padding: 0.45em 0.6em; margin: 0 0.25em; line-height: 1; border-radius: 0.35em;\">\n",
       "    as\n",
       "    <span style=\"font-size: 0.8em; font-weight: bold; line-height: 1; border-radius: 0.35em; vertical-align: middle; margin-left: 0.5rem\">Lightheaded</span>\n",
       "</mark>\n",
       " \n",
       "<mark class=\"entity\" style=\"background: rgb(105, 110, 192); padding: 0.45em 0.6em; margin: 0 0.25em; line-height: 1; border-radius: 0.35em;\">\n",
       "    if\n",
       "    <span style=\"font-size: 0.8em; font-weight: bold; line-height: 1; border-radius: 0.35em; vertical-align: middle; margin-left: 0.5rem\">Lightheaded</span>\n",
       "</mark>\n",
       " \n",
       "<mark class=\"entity\" style=\"background: rgb(105, 110, 192); padding: 0.45em 0.6em; margin: 0 0.25em; line-height: 1; border-radius: 0.35em;\">\n",
       "    he\n",
       "    <span style=\"font-size: 0.8em; font-weight: bold; line-height: 1; border-radius: 0.35em; vertical-align: middle; margin-left: 0.5rem\">Lightheaded</span>\n",
       "</mark>\n",
       " \n",
       "<mark class=\"entity\" style=\"background: rgb(105, 110, 192); padding: 0.45em 0.6em; margin: 0 0.25em; line-height: 1; border-radius: 0.35em;\">\n",
       "    were\n",
       "    <span style=\"font-size: 0.8em; font-weight: bold; line-height: 1; border-radius: 0.35em; vertical-align: middle; margin-left: 0.5rem\">Lightheaded</span>\n",
       "</mark>\n",
       " \n",
       "<mark class=\"entity\" style=\"background: rgb(105, 110, 192); padding: 0.45em 0.6em; margin: 0 0.25em; line-height: 1; border-radius: 0.35em;\">\n",
       "    going\n",
       "    <span style=\"font-size: 0.8em; font-weight: bold; line-height: 1; border-radius: 0.35em; vertical-align: middle; margin-left: 0.5rem\">Lightheaded</span>\n",
       "</mark>\n",
       " \n",
       "<mark class=\"entity\" style=\"background: rgb(105, 110, 192); padding: 0.45em 0.6em; margin: 0 0.25em; line-height: 1; border-radius: 0.35em;\">\n",
       "    to\n",
       "    <span style=\"font-size: 0.8em; font-weight: bold; line-height: 1; border-radius: 0.35em; vertical-align: middle; margin-left: 0.5rem\">Lightheaded</span>\n",
       "</mark>\n",
       " \n",
       "<mark class=\"entity\" style=\"background: rgb(105, 110, 192); padding: 0.45em 0.6em; margin: 0 0.25em; line-height: 1; border-radius: 0.35em;\">\n",
       "    pass\n",
       "    <span style=\"font-size: 0.8em; font-weight: bold; line-height: 1; border-radius: 0.35em; vertical-align: middle; margin-left: 0.5rem\">Lightheaded</span>\n",
       "</mark>\n",
       " \n",
       "<mark class=\"entity\" style=\"background: rgb(105, 110, 192); padding: 0.45em 0.6em; margin: 0 0.25em; line-height: 1; border-radius: 0.35em;\">\n",
       "    out\n",
       "    <span style=\"font-size: 0.8em; font-weight: bold; line-height: 1; border-radius: 0.35em; vertical-align: middle; margin-left: 0.5rem\">Lightheaded</span>\n",
       "</mark>\n",
       " (did not lose conciousness). Of note patient endorses abusing adderall, primarily to study (1-3 times per week). Before recent soccer game, took adderrall night before and morning of game. Denies shortness of breath, diaphoresis, fevers, chills, headache, fatigue, changes in sleep, changes in vision/hearing, abdominal paun, changes in bowel or urinary habits. \r",
       "</br>PMHx: none\r",
       "</br>Rx: uses friends adderrall\r",
       "</br>FHx: \n",
       "<mark class=\"entity\" style=\"background: rgb(168, 174, 171); padding: 0.45em 0.6em; margin: 0 0.25em; line-height: 1; border-radius: 0.35em;\">\n",
       "    mom\n",
       "    <span style=\"font-size: 0.8em; font-weight: bold; line-height: 1; border-radius: 0.35em; vertical-align: middle; margin-left: 0.5rem\">Family history of thyroid disorder</span>\n",
       "</mark>\n",
       " \n",
       "<mark class=\"entity\" style=\"background: rgb(168, 174, 171); padding: 0.45em 0.6em; margin: 0 0.25em; line-height: 1; border-radius: 0.35em;\">\n",
       "    with\n",
       "    <span style=\"font-size: 0.8em; font-weight: bold; line-height: 1; border-radius: 0.35em; vertical-align: middle; margin-left: 0.5rem\">Family history of thyroid disorder</span>\n",
       "</mark>\n",
       " \n",
       "<mark class=\"entity\" style=\"background: rgb(168, 174, 171); padding: 0.45em 0.6em; margin: 0 0.25em; line-height: 1; border-radius: 0.35em;\">\n",
       "    &quot;thyroid\n",
       "    <span style=\"font-size: 0.8em; font-weight: bold; line-height: 1; border-radius: 0.35em; vertical-align: middle; margin-left: 0.5rem\">Family history of thyroid disorder</span>\n",
       "</mark>\n",
       " \n",
       "<mark class=\"entity\" style=\"background: rgb(168, 174, 171); padding: 0.45em 0.6em; margin: 0 0.25em; line-height: 1; border-radius: 0.35em;\">\n",
       "    disease\n",
       "    <span style=\"font-size: 0.8em; font-weight: bold; line-height: 1; border-radius: 0.35em; vertical-align: middle; margin-left: 0.5rem\">Family history of thyroid disorder</span>\n",
       "</mark>\n",
       ",&quot; \n",
       "<mark class=\"entity\" style=\"background: rgb(216, 244, 144); padding: 0.45em 0.6em; margin: 0 0.25em; line-height: 1; border-radius: 0.35em;\">\n",
       "    dad\n",
       "    <span style=\"font-size: 0.8em; font-weight: bold; line-height: 1; border-radius: 0.35em; vertical-align: middle; margin-left: 0.5rem\">Family history of MI or Family history of myocardial infarction</span>\n",
       "</mark>\n",
       " \n",
       "<mark class=\"entity\" style=\"background: rgb(216, 244, 144); padding: 0.45em 0.6em; margin: 0 0.25em; line-height: 1; border-radius: 0.35em;\">\n",
       "    with\n",
       "    <span style=\"font-size: 0.8em; font-weight: bold; line-height: 1; border-radius: 0.35em; vertical-align: middle; margin-left: 0.5rem\">Family history of MI or Family history of myocardial infarction</span>\n",
       "</mark>\n",
       " \n",
       "<mark class=\"entity\" style=\"background: rgb(216, 244, 144); padding: 0.45em 0.6em; margin: 0 0.25em; line-height: 1; border-radius: 0.35em;\">\n",
       "    recent\n",
       "    <span style=\"font-size: 0.8em; font-weight: bold; line-height: 1; border-radius: 0.35em; vertical-align: middle; margin-left: 0.5rem\">Family history of MI or Family history of myocardial infarction</span>\n",
       "</mark>\n",
       " \n",
       "<mark class=\"entity\" style=\"background: rgb(216, 244, 144); padding: 0.45em 0.6em; margin: 0 0.25em; line-height: 1; border-radius: 0.35em;\">\n",
       "    heart\n",
       "    <span style=\"font-size: 0.8em; font-weight: bold; line-height: 1; border-radius: 0.35em; vertical-align: middle; margin-left: 0.5rem\">Family history of MI or Family history of myocardial infarction</span>\n",
       "</mark>\n",
       " \n",
       "<mark class=\"entity\" style=\"background: rgb(216, 244, 144); padding: 0.45em 0.6em; margin: 0 0.25em; line-height: 1; border-radius: 0.35em;\">\n",
       "    attcak\n",
       "    <span style=\"font-size: 0.8em; font-weight: bold; line-height: 1; border-radius: 0.35em; vertical-align: middle; margin-left: 0.5rem\">Family history of MI or Family history of myocardial infarction</span>\n",
       "</mark>\n",
       "\r",
       "</br>All: none\r",
       "</br>Immunizations: up to date\r",
       "</br>SHx: Freshmen in college. Endorses 3-4 drinks 3 nights / week (on weekends), denies tabacco, endorses trying marijuana. Sexually active with girlfriend x 1 year, uses condoms</div></span>"
      ],
      "text/plain": [
       "<IPython.core.display.HTML object>"
      ]
     },
     "metadata": {},
     "output_type": "display_data"
    }
   ],
   "source": [
    "try:\n",
    "    df_test['span'] = df_test['preds'].apply(char_target_to_span)\n",
    "    plot_annotation(df_test, df_test['pn_num'][0])\n",
    "except:\n",
    "    pass"
   ]
  },
  {
   "cell_type": "markdown",
   "id": "9816211c",
   "metadata": {
    "papermill": {
     "duration": 0.030773,
     "end_time": "2022-04-12T19:35:53.914051",
     "exception": false,
     "start_time": "2022-04-12T19:35:53.883278",
     "status": "completed"
    },
    "tags": []
   },
   "source": [
    "Unlike for deberta, spaces are not included in the offsets, we need to add them manually otherwise this will hurt performances."
   ]
  },
  {
   "cell_type": "markdown",
   "id": "3098d0ea",
   "metadata": {
    "papermill": {
     "duration": 0.030665,
     "end_time": "2022-04-12T19:35:53.975862",
     "exception": false,
     "start_time": "2022-04-12T19:35:53.945197",
     "status": "completed"
    },
    "tags": []
   },
   "source": [
    "## Post-processing"
   ]
  },
  {
   "cell_type": "code",
   "execution_count": 17,
   "id": "c707028b",
   "metadata": {
    "execution": {
     "iopub.execute_input": "2022-04-12T19:35:54.047201Z",
     "iopub.status.busy": "2022-04-12T19:35:54.046612Z",
     "iopub.status.idle": "2022-04-12T19:35:54.050169Z",
     "shell.execute_reply": "2022-04-12T19:35:54.049743Z",
     "shell.execute_reply.started": "2022-04-12T19:34:34.418799Z"
    },
    "papermill": {
     "duration": 0.042958,
     "end_time": "2022-04-12T19:35:54.050294",
     "exception": false,
     "start_time": "2022-04-12T19:35:54.007336",
     "status": "completed"
    },
    "tags": []
   },
   "outputs": [],
   "source": [
    "def post_process_spaces(target, text):\n",
    "    target = np.copy(target)\n",
    "\n",
    "    if len(text) > len(target):\n",
    "        padding = np.zeros(len(text) - len(target))\n",
    "        target = np.concatenate([target, padding])\n",
    "    else:\n",
    "        target = target[:len(text)]\n",
    "\n",
    "    if text[0] == \" \":\n",
    "        target[0] = 0\n",
    "    if text[-1] == \" \":\n",
    "        target[-1] = 0\n",
    "\n",
    "    for i in range(1, len(text) - 1):\n",
    "        if text[i] == \" \":\n",
    "            if target[i] and not target[i - 1]:  # space before\n",
    "                target[i] = 0\n",
    "\n",
    "            if target[i] and not target[i + 1]:  # space after\n",
    "                target[i] = 0\n",
    "\n",
    "            if target[i - 1] and target[i + 1]:\n",
    "                target[i] = 1\n",
    "\n",
    "    return target"
   ]
  },
  {
   "cell_type": "code",
   "execution_count": 18,
   "id": "9b186d51",
   "metadata": {
    "execution": {
     "iopub.execute_input": "2022-04-12T19:35:54.119578Z",
     "iopub.status.busy": "2022-04-12T19:35:54.118796Z",
     "iopub.status.idle": "2022-04-12T19:35:54.121314Z",
     "shell.execute_reply": "2022-04-12T19:35:54.120884Z",
     "shell.execute_reply.started": "2022-04-12T19:34:34.431259Z"
    },
    "papermill": {
     "duration": 0.040126,
     "end_time": "2022-04-12T19:35:54.121423",
     "exception": false,
     "start_time": "2022-04-12T19:35:54.081297",
     "status": "completed"
    },
    "tags": []
   },
   "outputs": [],
   "source": [
    "df_test['preds_pp'] = df_test.apply(lambda x: post_process_spaces(x['preds'], x['clean_text']), 1)"
   ]
  },
  {
   "cell_type": "code",
   "execution_count": 19,
   "id": "a9dcac36",
   "metadata": {
    "execution": {
     "iopub.execute_input": "2022-04-12T19:35:54.206411Z",
     "iopub.status.busy": "2022-04-12T19:35:54.201166Z",
     "iopub.status.idle": "2022-04-12T19:35:54.214668Z",
     "shell.execute_reply": "2022-04-12T19:35:54.214274Z",
     "shell.execute_reply.started": "2022-04-12T19:34:34.443711Z"
    },
    "papermill": {
     "duration": 0.062267,
     "end_time": "2022-04-12T19:35:54.214815",
     "exception": false,
     "start_time": "2022-04-12T19:35:54.152548",
     "status": "completed"
    },
    "tags": []
   },
   "outputs": [
    {
     "data": {
      "text/html": [
       "<span class=\"tex2jax_ignore\"><div class=\"entities\" style=\"line-height: 2.5; direction: ltr\">HPI: 17yo M presents with palpitations. Patient reports 3-4 months of \n",
       "<mark class=\"entity\" style=\"background: rgb(126, 167, 200); padding: 0.45em 0.6em; margin: 0 0.25em; line-height: 1; border-radius: 0.35em;\">\n",
       "    intermittent episodes\n",
       "    <span style=\"font-size: 0.8em; font-weight: bold; line-height: 1; border-radius: 0.35em; vertical-align: middle; margin-left: 0.5rem\">Intermittent symptoms</span>\n",
       "</mark>\n",
       " of &quot;heart beating/pounding out of my chest.&quot; 2 days ago during a soccer game had an episode, but this time had \n",
       "<mark class=\"entity\" style=\"background: rgb(105, 117, 229); padding: 0.45em 0.6em; margin: 0 0.25em; line-height: 1; border-radius: 0.35em;\">\n",
       "    chest pressure\n",
       "    <span style=\"font-size: 0.8em; font-weight: bold; line-height: 1; border-radius: 0.35em; vertical-align: middle; margin-left: 0.5rem\">Chest pressure</span>\n",
       "</mark>\n",
       " and \n",
       "<mark class=\"entity\" style=\"background: rgb(136, 178, 124); padding: 0.45em 0.6em; margin: 0 0.25em; line-height: 1; border-radius: 0.35em;\">\n",
       "    felt as if he were going to pass out\n",
       "    <span style=\"font-size: 0.8em; font-weight: bold; line-height: 1; border-radius: 0.35em; vertical-align: middle; margin-left: 0.5rem\">Lightheaded</span>\n",
       "</mark>\n",
       " (did not lose conciousness). Of note patient endorses abusing adderall, primarily to study (1-3 times per week). Before recent soccer game, took adderrall night before and morning of game. Denies shortness of breath, diaphoresis, fevers, chills, headache, fatigue, changes in sleep, changes in vision/hearing, abdominal paun, changes in bowel or urinary habits. \r",
       "</br>PMHx: none\r",
       "</br>Rx: uses friends adderrall\r",
       "</br>FHx: \n",
       "<mark class=\"entity\" style=\"background: rgb(206, 167, 251); padding: 0.45em 0.6em; margin: 0 0.25em; line-height: 1; border-radius: 0.35em;\">\n",
       "    mom with &quot;thyroid disease\n",
       "    <span style=\"font-size: 0.8em; font-weight: bold; line-height: 1; border-radius: 0.35em; vertical-align: middle; margin-left: 0.5rem\">Family history of thyroid disorder</span>\n",
       "</mark>\n",
       ",&quot; \n",
       "<mark class=\"entity\" style=\"background: rgb(229, 236, 123); padding: 0.45em 0.6em; margin: 0 0.25em; line-height: 1; border-radius: 0.35em;\">\n",
       "    dad with recent heart attcak\n",
       "    <span style=\"font-size: 0.8em; font-weight: bold; line-height: 1; border-radius: 0.35em; vertical-align: middle; margin-left: 0.5rem\">Family history of MI or Family history of myocardial infarction</span>\n",
       "</mark>\n",
       "\r",
       "</br>All: none\r",
       "</br>Immunizations: up to date\r",
       "</br>SHx: Freshmen in college. Endorses 3-4 drinks 3 nights / week (on weekends), denies tabacco, endorses trying marijuana. Sexually active with girlfriend x 1 year, uses condoms</div></span>"
      ],
      "text/plain": [
       "<IPython.core.display.HTML object>"
      ]
     },
     "metadata": {},
     "output_type": "display_data"
    }
   ],
   "source": [
    "try:\n",
    "    df_test['span'] = df_test['preds_pp'].apply(char_target_to_span)\n",
    "    plot_annotation(df_test, df_test['pn_num'][0])\n",
    "except:\n",
    "    pass"
   ]
  },
  {
   "cell_type": "markdown",
   "id": "f5c53c4a",
   "metadata": {
    "papermill": {
     "duration": 0.031282,
     "end_time": "2022-04-12T19:35:54.277928",
     "exception": false,
     "start_time": "2022-04-12T19:35:54.246646",
     "status": "completed"
    },
    "tags": []
   },
   "source": [
    "## Submission"
   ]
  },
  {
   "cell_type": "code",
   "execution_count": 20,
   "id": "cf00ada3",
   "metadata": {
    "execution": {
     "iopub.execute_input": "2022-04-12T19:35:54.349972Z",
     "iopub.status.busy": "2022-04-12T19:35:54.349206Z",
     "iopub.status.idle": "2022-04-12T19:35:54.368143Z",
     "shell.execute_reply": "2022-04-12T19:35:54.368544Z",
     "shell.execute_reply.started": "2022-04-12T19:34:34.479612Z"
    },
    "papermill": {
     "duration": 0.057738,
     "end_time": "2022-04-12T19:35:54.368678",
     "exception": false,
     "start_time": "2022-04-12T19:35:54.310940",
     "status": "completed"
    },
    "tags": []
   },
   "outputs": [
    {
     "data": {
      "text/html": [
       "<div>\n",
       "<style scoped>\n",
       "    .dataframe tbody tr th:only-of-type {\n",
       "        vertical-align: middle;\n",
       "    }\n",
       "\n",
       "    .dataframe tbody tr th {\n",
       "        vertical-align: top;\n",
       "    }\n",
       "\n",
       "    .dataframe thead th {\n",
       "        text-align: right;\n",
       "    }\n",
       "</style>\n",
       "<table border=\"1\" class=\"dataframe\">\n",
       "  <thead>\n",
       "    <tr style=\"text-align: right;\">\n",
       "      <th></th>\n",
       "      <th>id</th>\n",
       "      <th>location</th>\n",
       "    </tr>\n",
       "  </thead>\n",
       "  <tbody>\n",
       "    <tr>\n",
       "      <th>0</th>\n",
       "      <td>00016_000</td>\n",
       "      <td>696 724</td>\n",
       "    </tr>\n",
       "    <tr>\n",
       "      <th>1</th>\n",
       "      <td>00016_001</td>\n",
       "      <td>668 693</td>\n",
       "    </tr>\n",
       "    <tr>\n",
       "      <th>2</th>\n",
       "      <td>00016_002</td>\n",
       "      <td>203 217</td>\n",
       "    </tr>\n",
       "    <tr>\n",
       "      <th>3</th>\n",
       "      <td>00016_003</td>\n",
       "      <td>70 91</td>\n",
       "    </tr>\n",
       "    <tr>\n",
       "      <th>4</th>\n",
       "      <td>00016_004</td>\n",
       "      <td>222 258</td>\n",
       "    </tr>\n",
       "  </tbody>\n",
       "</table>\n",
       "</div>"
      ],
      "text/plain": [
       "          id location\n",
       "0  00016_000  696 724\n",
       "1  00016_001  668 693\n",
       "2  00016_002  203 217\n",
       "3  00016_003    70 91\n",
       "4  00016_004  222 258"
      ]
     },
     "execution_count": 20,
     "metadata": {},
     "output_type": "execute_result"
    }
   ],
   "source": [
    "df_test['location'] = labels_to_sub(df_test['preds_pp'].values)\n",
    "\n",
    "sub = pd.read_csv(DATA_PATH + 'sample_submission.csv')\n",
    "\n",
    "sub = sub[['id']].merge(df_test[['id', \"location\"]], how=\"left\", on=\"id\")\n",
    "\n",
    "sub.to_csv('submission.csv', index=False)\n",
    "\n",
    "sub.head()"
   ]
  },
  {
   "cell_type": "markdown",
   "id": "dbb90f66",
   "metadata": {
    "papermill": {
     "duration": 0.031678,
     "end_time": "2022-04-12T19:35:54.433088",
     "exception": false,
     "start_time": "2022-04-12T19:35:54.401410",
     "status": "completed"
    },
    "tags": []
   },
   "source": [
    "Done ! "
   ]
  }
 ],
 "metadata": {
  "kernelspec": {
   "display_name": "Python 3",
   "language": "python",
   "name": "python3"
  },
  "language_info": {
   "codemirror_mode": {
    "name": "ipython",
    "version": 3
   },
   "file_extension": ".py",
   "mimetype": "text/x-python",
   "name": "python",
   "nbconvert_exporter": "python",
   "pygments_lexer": "ipython3",
   "version": "3.7.12"
  },
  "papermill": {
   "default_parameters": {},
   "duration": 54.404724,
   "end_time": "2022-04-12T19:35:57.304174",
   "environment_variables": {},
   "exception": null,
   "input_path": "__notebook__.ipynb",
   "output_path": "__notebook__.ipynb",
   "parameters": {},
   "start_time": "2022-04-12T19:35:02.899450",
   "version": "2.3.3"
  },
  "widgets": {
   "application/vnd.jupyter.widget-state+json": {
    "state": {
     "06897d6071a5400aaf258b658d8575d4": {
      "model_module": "@jupyter-widgets/controls",
      "model_module_version": "1.5.0",
      "model_name": "ProgressStyleModel",
      "state": {
       "_model_module": "@jupyter-widgets/controls",
       "_model_module_version": "1.5.0",
       "_model_name": "ProgressStyleModel",
       "_view_count": null,
       "_view_module": "@jupyter-widgets/base",
       "_view_module_version": "1.2.0",
       "_view_name": "StyleView",
       "bar_color": null,
       "description_width": ""
      }
     },
     "0a9324d7d8754d80a4de19548d88d36d": {
      "model_module": "@jupyter-widgets/base",
      "model_module_version": "1.2.0",
      "model_name": "LayoutModel",
      "state": {
       "_model_module": "@jupyter-widgets/base",
       "_model_module_version": "1.2.0",
       "_model_name": "LayoutModel",
       "_view_count": null,
       "_view_module": "@jupyter-widgets/base",
       "_view_module_version": "1.2.0",
       "_view_name": "LayoutView",
       "align_content": null,
       "align_items": null,
       "align_self": null,
       "border": null,
       "bottom": null,
       "display": null,
       "flex": null,
       "flex_flow": null,
       "grid_area": null,
       "grid_auto_columns": null,
       "grid_auto_flow": null,
       "grid_auto_rows": null,
       "grid_column": null,
       "grid_gap": null,
       "grid_row": null,
       "grid_template_areas": null,
       "grid_template_columns": null,
       "grid_template_rows": null,
       "height": null,
       "justify_content": null,
       "justify_items": null,
       "left": null,
       "margin": null,
       "max_height": null,
       "max_width": null,
       "min_height": null,
       "min_width": null,
       "object_fit": null,
       "object_position": null,
       "order": null,
       "overflow": null,
       "overflow_x": null,
       "overflow_y": null,
       "padding": null,
       "right": null,
       "top": null,
       "visibility": null,
       "width": null
      }
     },
     "39281776b1554d3fb0ec1ff8615483f9": {
      "model_module": "@jupyter-widgets/controls",
      "model_module_version": "1.5.0",
      "model_name": "DescriptionStyleModel",
      "state": {
       "_model_module": "@jupyter-widgets/controls",
       "_model_module_version": "1.5.0",
       "_model_name": "DescriptionStyleModel",
       "_view_count": null,
       "_view_module": "@jupyter-widgets/base",
       "_view_module_version": "1.2.0",
       "_view_name": "StyleView",
       "description_width": ""
      }
     },
     "5434f0b9e13248cdae4c65bcb3daa028": {
      "model_module": "@jupyter-widgets/base",
      "model_module_version": "1.2.0",
      "model_name": "LayoutModel",
      "state": {
       "_model_module": "@jupyter-widgets/base",
       "_model_module_version": "1.2.0",
       "_model_name": "LayoutModel",
       "_view_count": null,
       "_view_module": "@jupyter-widgets/base",
       "_view_module_version": "1.2.0",
       "_view_name": "LayoutView",
       "align_content": null,
       "align_items": null,
       "align_self": null,
       "border": null,
       "bottom": null,
       "display": null,
       "flex": null,
       "flex_flow": null,
       "grid_area": null,
       "grid_auto_columns": null,
       "grid_auto_flow": null,
       "grid_auto_rows": null,
       "grid_column": null,
       "grid_gap": null,
       "grid_row": null,
       "grid_template_areas": null,
       "grid_template_columns": null,
       "grid_template_rows": null,
       "height": null,
       "justify_content": null,
       "justify_items": null,
       "left": null,
       "margin": null,
       "max_height": null,
       "max_width": null,
       "min_height": null,
       "min_width": null,
       "object_fit": null,
       "object_position": null,
       "order": null,
       "overflow": null,
       "overflow_x": null,
       "overflow_y": null,
       "padding": null,
       "right": null,
       "top": null,
       "visibility": null,
       "width": null
      }
     },
     "608fb1147e174d0d81328507e7dade64": {
      "model_module": "@jupyter-widgets/controls",
      "model_module_version": "1.5.0",
      "model_name": "FloatProgressModel",
      "state": {
       "_dom_classes": [],
       "_model_module": "@jupyter-widgets/controls",
       "_model_module_version": "1.5.0",
       "_model_name": "FloatProgressModel",
       "_view_count": null,
       "_view_module": "@jupyter-widgets/controls",
       "_view_module_version": "1.5.0",
       "_view_name": "ProgressView",
       "bar_style": "success",
       "description": "",
       "description_tooltip": null,
       "layout": "IPY_MODEL_0a9324d7d8754d80a4de19548d88d36d",
       "max": 1.0,
       "min": 0.0,
       "orientation": "horizontal",
       "style": "IPY_MODEL_06897d6071a5400aaf258b658d8575d4",
       "value": 1.0
      }
     },
     "797c5b34ffb647a0a758877610bec574": {
      "model_module": "@jupyter-widgets/base",
      "model_module_version": "1.2.0",
      "model_name": "LayoutModel",
      "state": {
       "_model_module": "@jupyter-widgets/base",
       "_model_module_version": "1.2.0",
       "_model_name": "LayoutModel",
       "_view_count": null,
       "_view_module": "@jupyter-widgets/base",
       "_view_module_version": "1.2.0",
       "_view_name": "LayoutView",
       "align_content": null,
       "align_items": null,
       "align_self": null,
       "border": null,
       "bottom": null,
       "display": null,
       "flex": null,
       "flex_flow": null,
       "grid_area": null,
       "grid_auto_columns": null,
       "grid_auto_flow": null,
       "grid_auto_rows": null,
       "grid_column": null,
       "grid_gap": null,
       "grid_row": null,
       "grid_template_areas": null,
       "grid_template_columns": null,
       "grid_template_rows": null,
       "height": null,
       "justify_content": null,
       "justify_items": null,
       "left": null,
       "margin": null,
       "max_height": null,
       "max_width": null,
       "min_height": null,
       "min_width": null,
       "object_fit": null,
       "object_position": null,
       "order": null,
       "overflow": null,
       "overflow_x": null,
       "overflow_y": null,
       "padding": null,
       "right": null,
       "top": null,
       "visibility": null,
       "width": null
      }
     },
     "813ecf5a2ae9474082f46b669d0b4ebd": {
      "model_module": "@jupyter-widgets/controls",
      "model_module_version": "1.5.0",
      "model_name": "HBoxModel",
      "state": {
       "_dom_classes": [],
       "_model_module": "@jupyter-widgets/controls",
       "_model_module_version": "1.5.0",
       "_model_name": "HBoxModel",
       "_view_count": null,
       "_view_module": "@jupyter-widgets/controls",
       "_view_module_version": "1.5.0",
       "_view_name": "HBoxView",
       "box_style": "",
       "children": [
        "IPY_MODEL_895b93b61b3d4c0da19ce1e20441d1a7",
        "IPY_MODEL_608fb1147e174d0d81328507e7dade64",
        "IPY_MODEL_f765545a92a54a9c982b624bad6afca7"
       ],
       "layout": "IPY_MODEL_797c5b34ffb647a0a758877610bec574"
      }
     },
     "895b93b61b3d4c0da19ce1e20441d1a7": {
      "model_module": "@jupyter-widgets/controls",
      "model_module_version": "1.5.0",
      "model_name": "HTMLModel",
      "state": {
       "_dom_classes": [],
       "_model_module": "@jupyter-widgets/controls",
       "_model_module_version": "1.5.0",
       "_model_name": "HTMLModel",
       "_view_count": null,
       "_view_module": "@jupyter-widgets/controls",
       "_view_module_version": "1.5.0",
       "_view_name": "HTMLView",
       "description": "",
       "description_tooltip": null,
       "layout": "IPY_MODEL_5434f0b9e13248cdae4c65bcb3daa028",
       "placeholder": "​",
       "style": "IPY_MODEL_8fb51a29237340e8b9fead2a0fa8f9dc",
       "value": "100%"
      }
     },
     "8fb51a29237340e8b9fead2a0fa8f9dc": {
      "model_module": "@jupyter-widgets/controls",
      "model_module_version": "1.5.0",
      "model_name": "DescriptionStyleModel",
      "state": {
       "_model_module": "@jupyter-widgets/controls",
       "_model_module_version": "1.5.0",
       "_model_name": "DescriptionStyleModel",
       "_view_count": null,
       "_view_module": "@jupyter-widgets/base",
       "_view_module_version": "1.2.0",
       "_view_name": "StyleView",
       "description_width": ""
      }
     },
     "a536a40dcae6475dba955ce60191f894": {
      "model_module": "@jupyter-widgets/base",
      "model_module_version": "1.2.0",
      "model_name": "LayoutModel",
      "state": {
       "_model_module": "@jupyter-widgets/base",
       "_model_module_version": "1.2.0",
       "_model_name": "LayoutModel",
       "_view_count": null,
       "_view_module": "@jupyter-widgets/base",
       "_view_module_version": "1.2.0",
       "_view_name": "LayoutView",
       "align_content": null,
       "align_items": null,
       "align_self": null,
       "border": null,
       "bottom": null,
       "display": null,
       "flex": null,
       "flex_flow": null,
       "grid_area": null,
       "grid_auto_columns": null,
       "grid_auto_flow": null,
       "grid_auto_rows": null,
       "grid_column": null,
       "grid_gap": null,
       "grid_row": null,
       "grid_template_areas": null,
       "grid_template_columns": null,
       "grid_template_rows": null,
       "height": null,
       "justify_content": null,
       "justify_items": null,
       "left": null,
       "margin": null,
       "max_height": null,
       "max_width": null,
       "min_height": null,
       "min_width": null,
       "object_fit": null,
       "object_position": null,
       "order": null,
       "overflow": null,
       "overflow_x": null,
       "overflow_y": null,
       "padding": null,
       "right": null,
       "top": null,
       "visibility": null,
       "width": null
      }
     },
     "f765545a92a54a9c982b624bad6afca7": {
      "model_module": "@jupyter-widgets/controls",
      "model_module_version": "1.5.0",
      "model_name": "HTMLModel",
      "state": {
       "_dom_classes": [],
       "_model_module": "@jupyter-widgets/controls",
       "_model_module_version": "1.5.0",
       "_model_name": "HTMLModel",
       "_view_count": null,
       "_view_module": "@jupyter-widgets/controls",
       "_view_module_version": "1.5.0",
       "_view_name": "HTMLView",
       "description": "",
       "description_tooltip": null,
       "layout": "IPY_MODEL_a536a40dcae6475dba955ce60191f894",
       "placeholder": "​",
       "style": "IPY_MODEL_39281776b1554d3fb0ec1ff8615483f9",
       "value": " 1/1 [00:01&lt;00:00,  1.24s/it]"
      }
     }
    },
    "version_major": 2,
    "version_minor": 0
   }
  }
 },
 "nbformat": 4,
 "nbformat_minor": 5
}
